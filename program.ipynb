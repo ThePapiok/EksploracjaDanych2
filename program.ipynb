{
 "cells": [
  {
   "cell_type": "markdown",
   "metadata": {},
   "source": [
    "Dodajemy importy"
   ]
  },
  {
   "cell_type": "code",
   "execution_count": 1,
   "metadata": {},
   "outputs": [],
   "source": [
    "import pandas as pd\n",
    "import seaborn as sns\n",
    "from matplotlib import pyplot as plt\n",
    "from sklearn.compose import make_column_selector, ColumnTransformer\n",
    "from sklearn.metrics import confusion_matrix, roc_curve, roc_auc_score\n",
    "from sklearn.model_selection import train_test_split\n",
    "from sklearn.neural_network import MLPClassifier\n",
    "from sklearn.pipeline import Pipeline\n",
    "from sklearn.preprocessing import MinMaxScaler, OneHotEncoder\n",
    "from xgboost import XGBClassifier"
   ]
  },
  {
   "cell_type": "markdown",
   "metadata": {},
   "source": [
    "Wczytanie danych z separatorem \",\""
   ]
  },
  {
   "cell_type": "code",
   "execution_count": 2,
   "metadata": {},
   "outputs": [],
   "source": [
    "df = pd.read_csv(\"./loan_data.csv\", sep=\",\")"
   ]
  },
  {
   "cell_type": "markdown",
   "metadata": {},
   "source": [
    "Wyświetlenie danych"
   ]
  },
  {
   "cell_type": "code",
   "execution_count": 3,
   "metadata": {},
   "outputs": [
    {
     "name": "stdout",
     "output_type": "stream",
     "text": [
      "       person_age person_gender person_education  person_income  \\\n",
      "0            22.0        female           Master        71948.0   \n",
      "1            21.0        female      High School        12282.0   \n",
      "2            25.0        female      High School        12438.0   \n",
      "3            23.0        female         Bachelor        79753.0   \n",
      "4            24.0          male           Master        66135.0   \n",
      "...           ...           ...              ...            ...   \n",
      "44995        27.0          male        Associate        47971.0   \n",
      "44996        37.0        female        Associate        65800.0   \n",
      "44997        33.0          male        Associate        56942.0   \n",
      "44998        29.0          male         Bachelor        33164.0   \n",
      "44999        24.0          male      High School        51609.0   \n",
      "\n",
      "       person_emp_exp person_home_ownership  loan_amnt        loan_intent  \\\n",
      "0                   0                  RENT    35000.0           PERSONAL   \n",
      "1                   0                   OWN     1000.0          EDUCATION   \n",
      "2                   3              MORTGAGE     5500.0            MEDICAL   \n",
      "3                   0                  RENT    35000.0            MEDICAL   \n",
      "4                   1                  RENT    35000.0            MEDICAL   \n",
      "...               ...                   ...        ...                ...   \n",
      "44995               6                  RENT    15000.0            MEDICAL   \n",
      "44996              17                  RENT     9000.0    HOMEIMPROVEMENT   \n",
      "44997               7                  RENT     2771.0  DEBTCONSOLIDATION   \n",
      "44998               4                  RENT    12000.0          EDUCATION   \n",
      "44999               1                  RENT     6665.0  DEBTCONSOLIDATION   \n",
      "\n",
      "       loan_int_rate  loan_percent_income  cb_person_cred_hist_length  \\\n",
      "0              16.02                 0.49                         3.0   \n",
      "1              11.14                 0.08                         2.0   \n",
      "2              12.87                 0.44                         3.0   \n",
      "3              15.23                 0.44                         2.0   \n",
      "4              14.27                 0.53                         4.0   \n",
      "...              ...                  ...                         ...   \n",
      "44995          15.66                 0.31                         3.0   \n",
      "44996          14.07                 0.14                        11.0   \n",
      "44997          10.02                 0.05                        10.0   \n",
      "44998          13.23                 0.36                         6.0   \n",
      "44999          17.05                 0.13                         3.0   \n",
      "\n",
      "       credit_score previous_loan_defaults_on_file  loan_status  \n",
      "0               561                             No            1  \n",
      "1               504                            Yes            0  \n",
      "2               635                             No            1  \n",
      "3               675                             No            1  \n",
      "4               586                             No            1  \n",
      "...             ...                            ...          ...  \n",
      "44995           645                             No            1  \n",
      "44996           621                             No            1  \n",
      "44997           668                             No            1  \n",
      "44998           604                             No            1  \n",
      "44999           628                             No            1  \n",
      "\n",
      "[45000 rows x 14 columns]\n"
     ]
    }
   ],
   "source": [
    "print(df)"
   ]
  },
  {
   "cell_type": "markdown",
   "metadata": {},
   "source": [
    "Wyświetalnie dodatkowych informacji"
   ]
  },
  {
   "cell_type": "code",
   "execution_count": 4,
   "metadata": {},
   "outputs": [
    {
     "name": "stdout",
     "output_type": "stream",
     "text": [
      "<class 'pandas.core.frame.DataFrame'>\n",
      "RangeIndex: 45000 entries, 0 to 44999\n",
      "Data columns (total 14 columns):\n",
      " #   Column                          Non-Null Count  Dtype  \n",
      "---  ------                          --------------  -----  \n",
      " 0   person_age                      45000 non-null  float64\n",
      " 1   person_gender                   45000 non-null  object \n",
      " 2   person_education                45000 non-null  object \n",
      " 3   person_income                   45000 non-null  float64\n",
      " 4   person_emp_exp                  45000 non-null  int64  \n",
      " 5   person_home_ownership           45000 non-null  object \n",
      " 6   loan_amnt                       45000 non-null  float64\n",
      " 7   loan_intent                     45000 non-null  object \n",
      " 8   loan_int_rate                   45000 non-null  float64\n",
      " 9   loan_percent_income             45000 non-null  float64\n",
      " 10  cb_person_cred_hist_length      45000 non-null  float64\n",
      " 11  credit_score                    45000 non-null  int64  \n",
      " 12  previous_loan_defaults_on_file  45000 non-null  object \n",
      " 13  loan_status                     45000 non-null  int64  \n",
      "dtypes: float64(6), int64(3), object(5)\n",
      "memory usage: 4.8+ MB\n",
      "None\n"
     ]
    }
   ],
   "source": [
    "print(df.info())"
   ]
  },
  {
   "cell_type": "code",
   "execution_count": 5,
   "metadata": {},
   "outputs": [],
   "source": [
    "pd.set_option(\"display.max_columns\",None)"
   ]
  },
  {
   "cell_type": "markdown",
   "metadata": {},
   "source": [
    "Zmieniamy typ na int gdyż nie potrzebujemy floatow"
   ]
  },
  {
   "cell_type": "code",
   "execution_count": 6,
   "metadata": {},
   "outputs": [],
   "source": [
    "df[\"person_age\"] = df[\"person_age\"].astype(int)\n",
    "df[\"cb_person_cred_hist_length\"] = df[\"cb_person_cred_hist_length\"].astype(int)"
   ]
  },
  {
   "cell_type": "code",
   "execution_count": 7,
   "metadata": {},
   "outputs": [],
   "source": [
    "before_length = len(df)"
   ]
  },
  {
   "cell_type": "markdown",
   "metadata": {},
   "source": [
    "Wyswietlamy unikalne wartosci dla każdej kolumny"
   ]
  },
  {
   "cell_type": "code",
   "execution_count": 8,
   "metadata": {},
   "outputs": [
    {
     "name": "stdout",
     "output_type": "stream",
     "text": [
      "person_age:  [ 22  21  25  23  24  26 144 123  20  32  34  29  33  28  35  31  27  30\n",
      "  36  40  50  45  37  39  44  43  41  46  38  47  42  48  49  58  65  51\n",
      "  53  66  61  54  57  59  62  60  55  52  64  70  78  69  56  73  63  94\n",
      "  80  84  76  67 116 109]\n",
      "person_gender:  ['female' 'male']\n",
      "person_education:  ['Master' 'High School' 'Bachelor' 'Associate' 'Doctorate']\n",
      "person_income:  [71948. 12282. 12438. ... 31924. 56942. 33164.]\n",
      "person_emp_exp:  [  0   3   1   5   4   2   7   6 125   8 121 101 100  12  10   9  14  13\n",
      "  11  15  16  17  19  28  25  18  24  22  20  23  21  31  26  27  29  32\n",
      "  30 124  40  43  33  44  34  42  37  45  36  41  47  38  39  35  57  46\n",
      "  49  48  50  76  62  61  58  93  85]\n",
      "person_home_ownership:  ['RENT' 'OWN' 'MORTGAGE' 'OTHER']\n",
      "loan_amnt:  [35000.  1000.  5500. ... 12229.  2771.  6665.]\n",
      "loan_intent:  ['PERSONAL' 'EDUCATION' 'MEDICAL' 'VENTURE' 'HOMEIMPROVEMENT'\n",
      " 'DEBTCONSOLIDATION']\n",
      "loan_int_rate:  [16.02 11.14 12.87 ... 19.11 19.8  16.92]\n",
      "loan_percent_income:  [0.49 0.08 0.44 0.53 0.19 0.37 0.35 0.13 0.34 0.3  0.27 0.25 0.05 0.24\n",
      " 0.31 0.26 0.12 0.18 0.21 0.43 0.11 0.4  0.32 0.1  0.41 0.22 0.07 0.02\n",
      " 0.17 0.51 0.38 0.33 0.06 0.03 0.28 0.04 0.09 0.2  0.23 0.15 0.48 0.5\n",
      " 0.14 0.42 0.01 0.46 0.29 0.39 0.36 0.16 0.   0.57 0.45 0.52 0.55 0.61\n",
      " 0.62 0.66 0.54 0.47 0.56 0.58 0.63 0.59]\n",
      "cb_person_cred_hist_length:  [ 3  2  4  8  7  6  9 10  5 11 16 15 12 13 17 14 25 28 27 22 19 29 23 26\n",
      " 20 21 30 24 18]\n",
      "credit_score:  [561 504 635 675 586 532 701 585 544 640 621 651 573 708 583 670 663 694\n",
      " 709 679 684 662 691 600 654 626 607 700 553 589 681 567 669 606 582 649\n",
      " 602 616 631 637 695 620 622 645 624 570 648 652 559 623 609 579 688 661\n",
      " 562 664 564 598 557 677 690 599 604 601 634 671 789 538 587 683 518 617\n",
      " 668 673 706 536 689 595 584 642 614 597 625 603 643 508 505 593 686 646\n",
      " 697 615 687 650 588 658 531 665 703 594 618 574 577 653 630 660 639 612\n",
      " 628 592 580 678 672 613 566 718 484 699 656 659 636 554 807 578 674 608\n",
      " 569 629 560 548 667 676 581 655 551 529 666 576 633 611 657 647 542 692\n",
      " 545 540 525 537 641 539 563 712 491 590 572 528 638 627 596 547 507 565\n",
      " 693 522 632 556 499 704 503 714 552 555 558 521 605 571 591 719 610 535\n",
      " 644 523 546 702 711 534 805 682 447 725 680 568 524 710 707 619 460 696\n",
      " 527 511 477 575 496 685 476 502 541 722 506 487 530 515 513 520 724 514\n",
      " 501 549 720 486 716 465 509 517 444 482 698 443 512 526 454 550 462 717\n",
      " 727 715 543 448 713 721 481 723 533 705 483 740 495 459 489 519 494 498\n",
      " 488 468 490 479 510 472 480 421 473 500 493 441 485 450 467 461 475 463\n",
      " 728 735 458 456 726 729 750 455 478 453 445 431 737 497 492 437 516 451\n",
      " 434 435 439 466 440 449 469 471 730 470 734 751 739 736 738 733 732 731\n",
      " 741 748 744 762 742 745 743 464 390 755 747 759 746 756 753 764 850 760\n",
      " 754 770 784 773 765 772 419 474 430 418 420 792 768 457 446 767]\n",
      "previous_loan_defaults_on_file:  ['No' 'Yes']\n",
      "loan_status:  [1 0]\n"
     ]
    }
   ],
   "source": [
    "for column in df.columns:\n",
    "    print(column + \": \", df[column].unique())"
   ]
  },
  {
   "cell_type": "markdown",
   "metadata": {},
   "source": [
    "Sprawdzamy czy nie ma takich rekordów, którzy więcej pracowali lub mieli dłuższą historie kredytową niż ich długość życia"
   ]
  },
  {
   "cell_type": "code",
   "execution_count": 9,
   "metadata": {},
   "outputs": [
    {
     "name": "stdout",
     "output_type": "stream",
     "text": [
      "Nie ma obserwacji, których czas pracy lub dlugość historii kredytowej jest większa niż długość życia\n"
     ]
    }
   ],
   "source": [
    "found = False\n",
    "for index, row in df.iterrows():\n",
    "    if row[\"person_age\"] < row[\"person_emp_exp\"]:\n",
    "        found = True\n",
    "        break\n",
    "    if row[\"person_age\"] < row[\"cb_person_cred_hist_length\"]:\n",
    "        found = True\n",
    "        break\n",
    "if found:\n",
    "    print(\"Są takie obserwacje, których czas pracy lub dlugość historii kredytowej jest większa niż długość życia\")\n",
    "else:\n",
    "    print(\"Nie ma obserwacji, których czas pracy lub dlugość historii kredytowej jest większa niż długość życia\")"
   ]
  },
  {
   "cell_type": "markdown",
   "metadata": {},
   "source": [
    "Sprawdzamy czy są duplikaty"
   ]
  },
  {
   "cell_type": "code",
   "execution_count": 10,
   "metadata": {},
   "outputs": [
    {
     "name": "stdout",
     "output_type": "stream",
     "text": [
      "Ilość duplikatów -  0\n"
     ]
    }
   ],
   "source": [
    "print(\"Ilość duplikatów - \", len(df[df.duplicated()]))"
   ]
  },
  {
   "cell_type": "markdown",
   "metadata": {},
   "source": [
    "Usuwamy obserwacje gdzie wiek jest powyżej 100 lat"
   ]
  },
  {
   "cell_type": "code",
   "execution_count": 11,
   "metadata": {},
   "outputs": [
    {
     "name": "stdout",
     "output_type": "stream",
     "text": [
      "Usunięto  7  wyników, gdzie wiek większy niż 100\n"
     ]
    }
   ],
   "source": [
    "df = df[df[\"person_age\"] <= 100]\n",
    "print(\"Usunięto \", before_length - len(df), \" wyników, gdzie wiek większy niż 100\")"
   ]
  },
  {
   "cell_type": "markdown",
   "metadata": {},
   "source": [
    "Służy nam do wyznaczenia podstawowych statystyk"
   ]
  },
  {
   "cell_type": "code",
   "execution_count": 12,
   "metadata": {},
   "outputs": [
    {
     "name": "stdout",
     "output_type": "stream",
     "text": [
      "         person_age  person_income  person_emp_exp     loan_amnt  \\\n",
      "count  44993.000000   4.499300e+04    44993.000000  44993.000000   \n",
      "mean      27.748428   7.990845e+04        5.394528   9583.176761   \n",
      "std        5.909737   6.332213e+04        5.927159   6314.802655   \n",
      "min       20.000000   8.000000e+03        0.000000    500.000000   \n",
      "25%       24.000000   4.719500e+04        1.000000   5000.000000   \n",
      "50%       26.000000   6.704600e+04        4.000000   8000.000000   \n",
      "75%       30.000000   9.577800e+04        8.000000  12237.000000   \n",
      "max       94.000000   2.448661e+06       76.000000  35000.000000   \n",
      "\n",
      "       loan_int_rate  loan_percent_income  cb_person_cred_hist_length  \\\n",
      "count   44993.000000         44993.000000                44993.000000   \n",
      "mean       11.006448             0.139736                    5.866557   \n",
      "std         2.978985             0.087207                    3.877167   \n",
      "min         5.420000             0.000000                    2.000000   \n",
      "25%         8.590000             0.070000                    3.000000   \n",
      "50%        11.010000             0.120000                    4.000000   \n",
      "75%        12.990000             0.190000                    8.000000   \n",
      "max        20.000000             0.660000                   30.000000   \n",
      "\n",
      "       credit_score   loan_status  \n",
      "count  44993.000000  44993.000000  \n",
      "mean     632.585713      0.222257  \n",
      "std       50.402411      0.415767  \n",
      "min      390.000000      0.000000  \n",
      "25%      601.000000      0.000000  \n",
      "50%      640.000000      0.000000  \n",
      "75%      670.000000      0.000000  \n",
      "max      784.000000      1.000000  \n"
     ]
    }
   ],
   "source": [
    "print(df.describe())"
   ]
  },
  {
   "cell_type": "markdown",
   "metadata": {},
   "source": [
    "Sprawdzamy jakiej częsci osób został udzielony kredyt"
   ]
  },
  {
   "cell_type": "code",
   "execution_count": 13,
   "metadata": {},
   "outputs": [
    {
     "name": "stdout",
     "output_type": "stream",
     "text": [
      "loan_status\n",
      "0    0.777743\n",
      "1    0.222257\n",
      "Name: proportion, dtype: float64\n"
     ]
    }
   ],
   "source": [
    "print(df[\"loan_status\"].value_counts(normalize = True))"
   ]
  },
  {
   "cell_type": "markdown",
   "metadata": {},
   "source": [
    "Sprawdzmy czy są jakieś zależności, między zmiennymi"
   ]
  },
  {
   "cell_type": "code",
   "execution_count": 14,
   "metadata": {},
   "outputs": [
    {
     "name": "stdout",
     "output_type": "stream",
     "text": [
      "person_gender    female      male\n",
      "loan_status                      \n",
      "0              0.777497  0.777943\n",
      "1              0.222503  0.222057\n",
      "person_education  Associate  Bachelor  Doctorate  High School    Master\n",
      "loan_status                                                            \n",
      "0                  0.779644  0.774709   0.771337     0.776859  0.782378\n",
      "1                  0.220356  0.225291   0.228663     0.223141  0.217622\n",
      "previous_loan_defaults_on_file        No  Yes\n",
      "loan_status                                  \n",
      "0                               0.548268  1.0\n",
      "1                               0.451732  0.0\n"
     ]
    },
    {
     "data": {
      "image/png": "[encoded data removed]",
      "text/plain": [
       "<Figure size 1500x600 with 1 Axes>"
      ]
     },
     "metadata": {},
     "output_type": "display_data"
    },
    {
     "data": {
      "image/png": "[encoded data removed]",
      "text/plain": [
       "<Figure size 1500x600 with 1 Axes>"
      ]
     },
     "metadata": {},
     "output_type": "display_data"
    }
   ],
   "source": [
    "print(pd.crosstab(df[\"loan_status\"], df[\"person_gender\"], normalize=\"columns\"))\n",
    "print(pd.crosstab(df[\"loan_status\"], df[\"person_education\"], normalize=\"columns\"))\n",
    "print(pd.crosstab(df[\"loan_status\"], df[\"previous_loan_defaults_on_file\"], normalize = \"columns\"))\n",
    "\n",
    "plt.figure(figsize=(15, 6))\n",
    "sns.countplot(x='person_home_ownership', hue='loan_status', data=df)\n",
    "plt.title('Własność a status pożyczki')\n",
    "plt.xlabel('Własność')\n",
    "plt.ylabel('Liczba osób')\n",
    "plt.show()\n",
    "\n",
    "plt.figure(figsize=(15, 6))\n",
    "sns.countplot(x='loan_intent', hue='loan_status', data=df)\n",
    "plt.title('Cel pożyczki a status pożyczki')\n",
    "plt.xlabel('Cel Pożyczki')\n",
    "plt.ylabel('Liczba osób')\n",
    "plt.show()"
   ]
  },
  {
   "cell_type": "markdown",
   "metadata": {},
   "source": [
    "Obliczamy korelacje"
   ]
  },
  {
   "cell_type": "code",
   "execution_count": 15,
   "metadata": {},
   "outputs": [
    {
     "name": "stdout",
     "output_type": "stream",
     "text": [
      "Korelacja:  0.999445497695405\n"
     ]
    }
   ],
   "source": [
    "print(\"Korelacja: \", (df[\"loan_amnt\"] * 100 / df[\"person_income\"]).corr(df[\"loan_percent_income\"]))"
   ]
  },
  {
   "cell_type": "markdown",
   "metadata": {},
   "source": [
    "Sprawdzamy zależności między zmiennymi liczbowymi"
   ]
  },
  {
   "cell_type": "code",
   "execution_count": 16,
   "metadata": {},
   "outputs": [
    {
     "data": {
      "image/png": "[encoded data removed]",
      "text/plain": [
       "<Figure size 1000x700 with 2 Axes>"
      ]
     },
     "metadata": {},
     "output_type": "display_data"
    }
   ],
   "source": [
    "plt.figure(figsize=(10,7))\n",
    "sns.set_theme(font_scale = 1.3)\n",
    "sns.heatmap(df.select_dtypes(include=\"number\").corr()[\"loan_status\"].to_frame(), cbar = True, annot = True, square = True, cmap = \"Blues\")\n",
    "plt.show()"
   ]
  },
  {
   "cell_type": "markdown",
   "metadata": {},
   "source": [
    "Odrzucamy możliwe nieznaczące zmienne"
   ]
  },
  {
   "cell_type": "code",
   "execution_count": 17,
   "metadata": {},
   "outputs": [],
   "source": [
    "df = df.drop([\"person_gender\", \"person_education\", \"loan_percent_income\", \"person_age\", \"person_emp_exp\", \"cb_person_cred_hist_length\", \"credit_score\"], axis=1)"
   ]
  },
  {
   "cell_type": "markdown",
   "metadata": {},
   "source": [
    "Wyciągamy predytkory oraz zmienne celu"
   ]
  },
  {
   "cell_type": "code",
   "execution_count": 18,
   "metadata": {},
   "outputs": [],
   "source": [
    "y = df[\"loan_status\"]\n",
    "X = df.drop([\"loan_status\"], axis=1)"
   ]
  },
  {
   "cell_type": "markdown",
   "metadata": {},
   "source": [
    "Dzielimy na zbiór uczący i testowy"
   ]
  },
  {
   "cell_type": "code",
   "execution_count": 19,
   "metadata": {},
   "outputs": [],
   "source": [
    "X_train, X_test, y_train, y_test = train_test_split(X, y, test_size = 0.3, random_state = 313128)"
   ]
  },
  {
   "cell_type": "markdown",
   "metadata": {},
   "source": [
    "Dzielimy zmienne na numeryczne i kategoryczne"
   ]
  },
  {
   "cell_type": "code",
   "execution_count": 20,
   "metadata": {},
   "outputs": [],
   "source": [
    "sel_num = make_column_selector(dtype_include=[\"int64\", \"float64\"])\n",
    "sel_cat = make_column_selector(dtype_include=\"object\")"
   ]
  },
  {
   "cell_type": "markdown",
   "metadata": {},
   "source": [
    "# Sieci neurnowe\n",
    "Zmienne numeryczne normalizujemy, a z katogrycznymi dzielimy na osobne kolumny dla kazdej wartości"
   ]
  },
  {
   "cell_type": "code",
   "execution_count": 21,
   "metadata": {},
   "outputs": [],
   "source": [
    "preprocessor = ColumnTransformer(transformers =\n",
    "                                [(\"num\", MinMaxScaler(feature_range = (0, 1)), sel_num),\n",
    "                                 (\"cat\", OneHotEncoder(handle_unknown = \"ignore\"), sel_cat)])"
   ]
  },
  {
   "cell_type": "markdown",
   "metadata": {},
   "source": [
    "Tworzymy potok, który na początku wykona preprocessor, który utworzyliśmy wyżej a potem juz klasyfikator oparty o sieci neuronowe, parametry zostały dobrane dzięki grid search"
   ]
  },
  {
   "cell_type": "code",
   "execution_count": 22,
   "metadata": {},
   "outputs": [
    {
     "data": {
      "text/html": [
       "<style>#sk-container-id-1 {\n",
       "  /* Definition of color scheme common for light and dark mode */\n",
       "  --sklearn-color-text: black;\n",
       "  --sklearn-color-line: gray;\n",
       "  /* Definition of color scheme for unfitted estimators */\n",
       "  --sklearn-color-unfitted-level-0: #fff5e6;\n",
       "  --sklearn-color-unfitted-level-1: #f6e4d2;\n",
       "  --sklearn-color-unfitted-level-2: #ffe0b3;\n",
       "  --sklearn-color-unfitted-level-3: chocolate;\n",
       "  /* Definition of color scheme for fitted estimators */\n",
       "  --sklearn-color-fitted-level-0: #f0f8ff;\n",
       "  --sklearn-color-fitted-level-1: #d4ebff;\n",
       "  --sklearn-color-fitted-level-2: #b3dbfd;\n",
       "  --sklearn-color-fitted-level-3: cornflowerblue;\n",
       "\n",
       "  /* Specific color for light theme */\n",
       "  --sklearn-color-text-on-default-background: var(--sg-text-color, var(--theme-code-foreground, var(--jp-content-font-color1, black)));\n",
       "  --sklearn-color-background: var(--sg-background-color, var(--theme-background, var(--jp-layout-color0, white)));\n",
       "  --sklearn-color-border-box: var(--sg-text-color, var(--theme-code-foreground, var(--jp-content-font-color1, black)));\n",
       "  --sklearn-color-icon: #696969;\n",
       "\n",
       "  @media (prefers-color-scheme: dark) {\n",
       "    /* Redefinition of color scheme for dark theme */\n",
       "    --sklearn-color-text-on-default-background: var(--sg-text-color, var(--theme-code-foreground, var(--jp-content-font-color1, white)));\n",
       "    --sklearn-color-background: var(--sg-background-color, var(--theme-background, var(--jp-layout-color0, #111)));\n",
       "    --sklearn-color-border-box: var(--sg-text-color, var(--theme-code-foreground, var(--jp-content-font-color1, white)));\n",
       "    --sklearn-color-icon: #878787;\n",
       "  }\n",
       "}\n",
       "\n",
       "#sk-container-id-1 {\n",
       "  color: var(--sklearn-color-text);\n",
       "}\n",
       "\n",
       "#sk-container-id-1 pre {\n",
       "  padding: 0;\n",
       "}\n",
       "\n",
       "#sk-container-id-1 input.sk-hidden--visually {\n",
       "  border: 0;\n",
       "  clip: rect(1px 1px 1px 1px);\n",
       "  clip: rect(1px, 1px, 1px, 1px);\n",
       "  height: 1px;\n",
       "  margin: -1px;\n",
       "  overflow: hidden;\n",
       "  padding: 0;\n",
       "  position: absolute;\n",
       "  width: 1px;\n",
       "}\n",
       "\n",
       "#sk-container-id-1 div.sk-dashed-wrapped {\n",
       "  border: 1px dashed var(--sklearn-color-line);\n",
       "  margin: 0 0.4em 0.5em 0.4em;\n",
       "  box-sizing: border-box;\n",
       "  padding-bottom: 0.4em;\n",
       "  background-color: var(--sklearn-color-background);\n",
       "}\n",
       "\n",
       "#sk-container-id-1 div.sk-container {\n",
       "  /* jupyter's `normalize.less` sets `[hidden] { display: none; }`\n",
       "     but bootstrap.min.css set `[hidden] { display: none !important; }`\n",
       "     so we also need the `!important` here to be able to override the\n",
       "     default hidden behavior on the sphinx rendered scikit-learn.org.\n",
       "     See: https://github.com/scikit-learn/scikit-learn/issues/21755 */\n",
       "  display: inline-block !important;\n",
       "  position: relative;\n",
       "}\n",
       "\n",
       "#sk-container-id-1 div.sk-text-repr-fallback {\n",
       "  display: none;\n",
       "}\n",
       "\n",
       "div.sk-parallel-item,\n",
       "div.sk-serial,\n",
       "div.sk-item {\n",
       "  /* draw centered vertical line to link estimators */\n",
       "  background-image: linear-gradient(var(--sklearn-color-text-on-default-background), var(--sklearn-color-text-on-default-background));\n",
       "  background-size: 2px 100%;\n",
       "  background-repeat: no-repeat;\n",
       "  background-position: center center;\n",
       "}\n",
       "\n",
       "/* Parallel-specific style estimator block */\n",
       "\n",
       "#sk-container-id-1 div.sk-parallel-item::after {\n",
       "  content: \"\";\n",
       "  width: 100%;\n",
       "  border-bottom: 2px solid var(--sklearn-color-text-on-default-background);\n",
       "  flex-grow: 1;\n",
       "}\n",
       "\n",
       "#sk-container-id-1 div.sk-parallel {\n",
       "  display: flex;\n",
       "  align-items: stretch;\n",
       "  justify-content: center;\n",
       "  background-color: var(--sklearn-color-background);\n",
       "  position: relative;\n",
       "}\n",
       "\n",
       "#sk-container-id-1 div.sk-parallel-item {\n",
       "  display: flex;\n",
       "  flex-direction: column;\n",
       "}\n",
       "\n",
       "#sk-container-id-1 div.sk-parallel-item:first-child::after {\n",
       "  align-self: flex-end;\n",
       "  width: 50%;\n",
       "}\n",
       "\n",
       "#sk-container-id-1 div.sk-parallel-item:last-child::after {\n",
       "  align-self: flex-start;\n",
       "  width: 50%;\n",
       "}\n",
       "\n",
       "#sk-container-id-1 div.sk-parallel-item:only-child::after {\n",
       "  width: 0;\n",
       "}\n",
       "\n",
       "/* Serial-specific style estimator block */\n",
       "\n",
       "#sk-container-id-1 div.sk-serial {\n",
       "  display: flex;\n",
       "  flex-direction: column;\n",
       "  align-items: center;\n",
       "  background-color: var(--sklearn-color-background);\n",
       "  padding-right: 1em;\n",
       "  padding-left: 1em;\n",
       "}\n",
       "\n",
       "\n",
       "/* Toggleable style: style used for estimator/Pipeline/ColumnTransformer box that is\n",
       "clickable and can be expanded/collapsed.\n",
       "- Pipeline and ColumnTransformer use this feature and define the default style\n",
       "- Estimators will overwrite some part of the style using the `sk-estimator` class\n",
       "*/\n",
       "\n",
       "/* Pipeline and ColumnTransformer style (default) */\n",
       "\n",
       "#sk-container-id-1 div.sk-toggleable {\n",
       "  /* Default theme specific background. It is overwritten whether we have a\n",
       "  specific estimator or a Pipeline/ColumnTransformer */\n",
       "  background-color: var(--sklearn-color-background);\n",
       "}\n",
       "\n",
       "/* Toggleable label */\n",
       "#sk-container-id-1 label.sk-toggleable__label {\n",
       "  cursor: pointer;\n",
       "  display: block;\n",
       "  width: 100%;\n",
       "  margin-bottom: 0;\n",
       "  padding: 0.5em;\n",
       "  box-sizing: border-box;\n",
       "  text-align: center;\n",
       "}\n",
       "\n",
       "#sk-container-id-1 label.sk-toggleable__label-arrow:before {\n",
       "  /* Arrow on the left of the label */\n",
       "  content: \"▸\";\n",
       "  float: left;\n",
       "  margin-right: 0.25em;\n",
       "  color: var(--sklearn-color-icon);\n",
       "}\n",
       "\n",
       "#sk-container-id-1 label.sk-toggleable__label-arrow:hover:before {\n",
       "  color: var(--sklearn-color-text);\n",
       "}\n",
       "\n",
       "/* Toggleable content - dropdown */\n",
       "\n",
       "#sk-container-id-1 div.sk-toggleable__content {\n",
       "  max-height: 0;\n",
       "  max-width: 0;\n",
       "  overflow: hidden;\n",
       "  text-align: left;\n",
       "  /* unfitted */\n",
       "  background-color: var(--sklearn-color-unfitted-level-0);\n",
       "}\n",
       "\n",
       "#sk-container-id-1 div.sk-toggleable__content.fitted {\n",
       "  /* fitted */\n",
       "  background-color: var(--sklearn-color-fitted-level-0);\n",
       "}\n",
       "\n",
       "#sk-container-id-1 div.sk-toggleable__content pre {\n",
       "  margin: 0.2em;\n",
       "  border-radius: 0.25em;\n",
       "  color: var(--sklearn-color-text);\n",
       "  /* unfitted */\n",
       "  background-color: var(--sklearn-color-unfitted-level-0);\n",
       "}\n",
       "\n",
       "#sk-container-id-1 div.sk-toggleable__content.fitted pre {\n",
       "  /* unfitted */\n",
       "  background-color: var(--sklearn-color-fitted-level-0);\n",
       "}\n",
       "\n",
       "#sk-container-id-1 input.sk-toggleable__control:checked~div.sk-toggleable__content {\n",
       "  /* Expand drop-down */\n",
       "  max-height: 200px;\n",
       "  max-width: 100%;\n",
       "  overflow: auto;\n",
       "}\n",
       "\n",
       "#sk-container-id-1 input.sk-toggleable__control:checked~label.sk-toggleable__label-arrow:before {\n",
       "  content: \"▾\";\n",
       "}\n",
       "\n",
       "/* Pipeline/ColumnTransformer-specific style */\n",
       "\n",
       "#sk-container-id-1 div.sk-label input.sk-toggleable__control:checked~label.sk-toggleable__label {\n",
       "  color: var(--sklearn-color-text);\n",
       "  background-color: var(--sklearn-color-unfitted-level-2);\n",
       "}\n",
       "\n",
       "#sk-container-id-1 div.sk-label.fitted input.sk-toggleable__control:checked~label.sk-toggleable__label {\n",
       "  background-color: var(--sklearn-color-fitted-level-2);\n",
       "}\n",
       "\n",
       "/* Estimator-specific style */\n",
       "\n",
       "/* Colorize estimator box */\n",
       "#sk-container-id-1 div.sk-estimator input.sk-toggleable__control:checked~label.sk-toggleable__label {\n",
       "  /* unfitted */\n",
       "  background-color: var(--sklearn-color-unfitted-level-2);\n",
       "}\n",
       "\n",
       "#sk-container-id-1 div.sk-estimator.fitted input.sk-toggleable__control:checked~label.sk-toggleable__label {\n",
       "  /* fitted */\n",
       "  background-color: var(--sklearn-color-fitted-level-2);\n",
       "}\n",
       "\n",
       "#sk-container-id-1 div.sk-label label.sk-toggleable__label,\n",
       "#sk-container-id-1 div.sk-label label {\n",
       "  /* The background is the default theme color */\n",
       "  color: var(--sklearn-color-text-on-default-background);\n",
       "}\n",
       "\n",
       "/* On hover, darken the color of the background */\n",
       "#sk-container-id-1 div.sk-label:hover label.sk-toggleable__label {\n",
       "  color: var(--sklearn-color-text);\n",
       "  background-color: var(--sklearn-color-unfitted-level-2);\n",
       "}\n",
       "\n",
       "/* Label box, darken color on hover, fitted */\n",
       "#sk-container-id-1 div.sk-label.fitted:hover label.sk-toggleable__label.fitted {\n",
       "  color: var(--sklearn-color-text);\n",
       "  background-color: var(--sklearn-color-fitted-level-2);\n",
       "}\n",
       "\n",
       "/* Estimator label */\n",
       "\n",
       "#sk-container-id-1 div.sk-label label {\n",
       "  font-family: monospace;\n",
       "  font-weight: bold;\n",
       "  display: inline-block;\n",
       "  line-height: 1.2em;\n",
       "}\n",
       "\n",
       "#sk-container-id-1 div.sk-label-container {\n",
       "  text-align: center;\n",
       "}\n",
       "\n",
       "/* Estimator-specific */\n",
       "#sk-container-id-1 div.sk-estimator {\n",
       "  font-family: monospace;\n",
       "  border: 1px dotted var(--sklearn-color-border-box);\n",
       "  border-radius: 0.25em;\n",
       "  box-sizing: border-box;\n",
       "  margin-bottom: 0.5em;\n",
       "  /* unfitted */\n",
       "  background-color: var(--sklearn-color-unfitted-level-0);\n",
       "}\n",
       "\n",
       "#sk-container-id-1 div.sk-estimator.fitted {\n",
       "  /* fitted */\n",
       "  background-color: var(--sklearn-color-fitted-level-0);\n",
       "}\n",
       "\n",
       "/* on hover */\n",
       "#sk-container-id-1 div.sk-estimator:hover {\n",
       "  /* unfitted */\n",
       "  background-color: var(--sklearn-color-unfitted-level-2);\n",
       "}\n",
       "\n",
       "#sk-container-id-1 div.sk-estimator.fitted:hover {\n",
       "  /* fitted */\n",
       "  background-color: var(--sklearn-color-fitted-level-2);\n",
       "}\n",
       "\n",
       "/* Specification for estimator info (e.g. \"i\" and \"?\") */\n",
       "\n",
       "/* Common style for \"i\" and \"?\" */\n",
       "\n",
       ".sk-estimator-doc-link,\n",
       "a:link.sk-estimator-doc-link,\n",
       "a:visited.sk-estimator-doc-link {\n",
       "  float: right;\n",
       "  font-size: smaller;\n",
       "  line-height: 1em;\n",
       "  font-family: monospace;\n",
       "  background-color: var(--sklearn-color-background);\n",
       "  border-radius: 1em;\n",
       "  height: 1em;\n",
       "  width: 1em;\n",
       "  text-decoration: none !important;\n",
       "  margin-left: 1ex;\n",
       "  /* unfitted */\n",
       "  border: var(--sklearn-color-unfitted-level-1) 1pt solid;\n",
       "  color: var(--sklearn-color-unfitted-level-1);\n",
       "}\n",
       "\n",
       ".sk-estimator-doc-link.fitted,\n",
       "a:link.sk-estimator-doc-link.fitted,\n",
       "a:visited.sk-estimator-doc-link.fitted {\n",
       "  /* fitted */\n",
       "  border: var(--sklearn-color-fitted-level-1) 1pt solid;\n",
       "  color: var(--sklearn-color-fitted-level-1);\n",
       "}\n",
       "\n",
       "/* On hover */\n",
       "div.sk-estimator:hover .sk-estimator-doc-link:hover,\n",
       ".sk-estimator-doc-link:hover,\n",
       "div.sk-label-container:hover .sk-estimator-doc-link:hover,\n",
       ".sk-estimator-doc-link:hover {\n",
       "  /* unfitted */\n",
       "  background-color: var(--sklearn-color-unfitted-level-3);\n",
       "  color: var(--sklearn-color-background);\n",
       "  text-decoration: none;\n",
       "}\n",
       "\n",
       "div.sk-estimator.fitted:hover .sk-estimator-doc-link.fitted:hover,\n",
       ".sk-estimator-doc-link.fitted:hover,\n",
       "div.sk-label-container:hover .sk-estimator-doc-link.fitted:hover,\n",
       ".sk-estimator-doc-link.fitted:hover {\n",
       "  /* fitted */\n",
       "  background-color: var(--sklearn-color-fitted-level-3);\n",
       "  color: var(--sklearn-color-background);\n",
       "  text-decoration: none;\n",
       "}\n",
       "\n",
       "/* Span, style for the box shown on hovering the info icon */\n",
       ".sk-estimator-doc-link span {\n",
       "  display: none;\n",
       "  z-index: 9999;\n",
       "  position: relative;\n",
       "  font-weight: normal;\n",
       "  right: .2ex;\n",
       "  padding: .5ex;\n",
       "  margin: .5ex;\n",
       "  width: min-content;\n",
       "  min-width: 20ex;\n",
       "  max-width: 50ex;\n",
       "  color: var(--sklearn-color-text);\n",
       "  box-shadow: 2pt 2pt 4pt #999;\n",
       "  /* unfitted */\n",
       "  background: var(--sklearn-color-unfitted-level-0);\n",
       "  border: .5pt solid var(--sklearn-color-unfitted-level-3);\n",
       "}\n",
       "\n",
       ".sk-estimator-doc-link.fitted span {\n",
       "  /* fitted */\n",
       "  background: var(--sklearn-color-fitted-level-0);\n",
       "  border: var(--sklearn-color-fitted-level-3);\n",
       "}\n",
       "\n",
       ".sk-estimator-doc-link:hover span {\n",
       "  display: block;\n",
       "}\n",
       "\n",
       "/* \"?\"-specific style due to the `<a>` HTML tag */\n",
       "\n",
       "#sk-container-id-1 a.estimator_doc_link {\n",
       "  float: right;\n",
       "  font-size: 1rem;\n",
       "  line-height: 1em;\n",
       "  font-family: monospace;\n",
       "  background-color: var(--sklearn-color-background);\n",
       "  border-radius: 1rem;\n",
       "  height: 1rem;\n",
       "  width: 1rem;\n",
       "  text-decoration: none;\n",
       "  /* unfitted */\n",
       "  color: var(--sklearn-color-unfitted-level-1);\n",
       "  border: var(--sklearn-color-unfitted-level-1) 1pt solid;\n",
       "}\n",
       "\n",
       "#sk-container-id-1 a.estimator_doc_link.fitted {\n",
       "  /* fitted */\n",
       "  border: var(--sklearn-color-fitted-level-1) 1pt solid;\n",
       "  color: var(--sklearn-color-fitted-level-1);\n",
       "}\n",
       "\n",
       "/* On hover */\n",
       "#sk-container-id-1 a.estimator_doc_link:hover {\n",
       "  /* unfitted */\n",
       "  background-color: var(--sklearn-color-unfitted-level-3);\n",
       "  color: var(--sklearn-color-background);\n",
       "  text-decoration: none;\n",
       "}\n",
       "\n",
       "#sk-container-id-1 a.estimator_doc_link.fitted:hover {\n",
       "  /* fitted */\n",
       "  background-color: var(--sklearn-color-fitted-level-3);\n",
       "}\n",
       "</style><div id=\"sk-container-id-1\" class=\"sk-top-container\"><div class=\"sk-text-repr-fallback\"><pre>Pipeline(steps=[(&#x27;prep&#x27;,\n",
       "                 ColumnTransformer(transformers=[(&#x27;num&#x27;, MinMaxScaler(),\n",
       "                                                  &lt;sklearn.compose._column_transformer.make_column_selector object at 0x0000015CB324AA20&gt;),\n",
       "                                                 (&#x27;cat&#x27;,\n",
       "                                                  OneHotEncoder(handle_unknown=&#x27;ignore&#x27;),\n",
       "                                                  &lt;sklearn.compose._column_transformer.make_column_selector object at 0x0000015CB318FC20&gt;)])),\n",
       "                (&#x27;siec&#x27;,\n",
       "                 MLPClassifier(hidden_layer_sizes=(50, 50), max_iter=1000,\n",
       "                               random_state=313128))])</pre><b>In a Jupyter environment, please rerun this cell to show the HTML representation or trust the notebook. <br />On GitHub, the HTML representation is unable to render, please try loading this page with nbviewer.org.</b></div><div class=\"sk-container\" hidden><div class=\"sk-item sk-dashed-wrapped\"><div class=\"sk-label-container\"><div class=\"sk-label fitted sk-toggleable\"><input class=\"sk-toggleable__control sk-hidden--visually\" id=\"sk-estimator-id-1\" type=\"checkbox\" ><label for=\"sk-estimator-id-1\" class=\"sk-toggleable__label fitted sk-toggleable__label-arrow fitted\">&nbsp;&nbsp;Pipeline<a class=\"sk-estimator-doc-link fitted\" rel=\"noreferrer\" target=\"_blank\" href=\"https://scikit-learn.org/1.4/modules/generated/sklearn.pipeline.Pipeline.html\">?<span>Documentation for Pipeline</span></a><span class=\"sk-estimator-doc-link fitted\">i<span>Fitted</span></span></label><div class=\"sk-toggleable__content fitted\"><pre>Pipeline(steps=[(&#x27;prep&#x27;,\n",
       "                 ColumnTransformer(transformers=[(&#x27;num&#x27;, MinMaxScaler(),\n",
       "                                                  &lt;sklearn.compose._column_transformer.make_column_selector object at 0x0000015CB324AA20&gt;),\n",
       "                                                 (&#x27;cat&#x27;,\n",
       "                                                  OneHotEncoder(handle_unknown=&#x27;ignore&#x27;),\n",
       "                                                  &lt;sklearn.compose._column_transformer.make_column_selector object at 0x0000015CB318FC20&gt;)])),\n",
       "                (&#x27;siec&#x27;,\n",
       "                 MLPClassifier(hidden_layer_sizes=(50, 50), max_iter=1000,\n",
       "                               random_state=313128))])</pre></div> </div></div><div class=\"sk-serial\"><div class=\"sk-item sk-dashed-wrapped\"><div class=\"sk-label-container\"><div class=\"sk-label fitted sk-toggleable\"><input class=\"sk-toggleable__control sk-hidden--visually\" id=\"sk-estimator-id-2\" type=\"checkbox\" ><label for=\"sk-estimator-id-2\" class=\"sk-toggleable__label fitted sk-toggleable__label-arrow fitted\">&nbsp;prep: ColumnTransformer<a class=\"sk-estimator-doc-link fitted\" rel=\"noreferrer\" target=\"_blank\" href=\"https://scikit-learn.org/1.4/modules/generated/sklearn.compose.ColumnTransformer.html\">?<span>Documentation for prep: ColumnTransformer</span></a></label><div class=\"sk-toggleable__content fitted\"><pre>ColumnTransformer(transformers=[(&#x27;num&#x27;, MinMaxScaler(),\n",
       "                                 &lt;sklearn.compose._column_transformer.make_column_selector object at 0x0000015CB324AA20&gt;),\n",
       "                                (&#x27;cat&#x27;, OneHotEncoder(handle_unknown=&#x27;ignore&#x27;),\n",
       "                                 &lt;sklearn.compose._column_transformer.make_column_selector object at 0x0000015CB318FC20&gt;)])</pre></div> </div></div><div class=\"sk-parallel\"><div class=\"sk-parallel-item\"><div class=\"sk-item\"><div class=\"sk-label-container\"><div class=\"sk-label fitted sk-toggleable\"><input class=\"sk-toggleable__control sk-hidden--visually\" id=\"sk-estimator-id-3\" type=\"checkbox\" ><label for=\"sk-estimator-id-3\" class=\"sk-toggleable__label fitted sk-toggleable__label-arrow fitted\">num</label><div class=\"sk-toggleable__content fitted\"><pre>&lt;sklearn.compose._column_transformer.make_column_selector object at 0x0000015CB324AA20&gt;</pre></div> </div></div><div class=\"sk-serial\"><div class=\"sk-item\"><div class=\"sk-estimator fitted sk-toggleable\"><input class=\"sk-toggleable__control sk-hidden--visually\" id=\"sk-estimator-id-4\" type=\"checkbox\" ><label for=\"sk-estimator-id-4\" class=\"sk-toggleable__label fitted sk-toggleable__label-arrow fitted\">&nbsp;MinMaxScaler<a class=\"sk-estimator-doc-link fitted\" rel=\"noreferrer\" target=\"_blank\" href=\"https://scikit-learn.org/1.4/modules/generated/sklearn.preprocessing.MinMaxScaler.html\">?<span>Documentation for MinMaxScaler</span></a></label><div class=\"sk-toggleable__content fitted\"><pre>MinMaxScaler()</pre></div> </div></div></div></div></div><div class=\"sk-parallel-item\"><div class=\"sk-item\"><div class=\"sk-label-container\"><div class=\"sk-label fitted sk-toggleable\"><input class=\"sk-toggleable__control sk-hidden--visually\" id=\"sk-estimator-id-5\" type=\"checkbox\" ><label for=\"sk-estimator-id-5\" class=\"sk-toggleable__label fitted sk-toggleable__label-arrow fitted\">cat</label><div class=\"sk-toggleable__content fitted\"><pre>&lt;sklearn.compose._column_transformer.make_column_selector object at 0x0000015CB318FC20&gt;</pre></div> </div></div><div class=\"sk-serial\"><div class=\"sk-item\"><div class=\"sk-estimator fitted sk-toggleable\"><input class=\"sk-toggleable__control sk-hidden--visually\" id=\"sk-estimator-id-6\" type=\"checkbox\" ><label for=\"sk-estimator-id-6\" class=\"sk-toggleable__label fitted sk-toggleable__label-arrow fitted\">&nbsp;OneHotEncoder<a class=\"sk-estimator-doc-link fitted\" rel=\"noreferrer\" target=\"_blank\" href=\"https://scikit-learn.org/1.4/modules/generated/sklearn.preprocessing.OneHotEncoder.html\">?<span>Documentation for OneHotEncoder</span></a></label><div class=\"sk-toggleable__content fitted\"><pre>OneHotEncoder(handle_unknown=&#x27;ignore&#x27;)</pre></div> </div></div></div></div></div></div></div><div class=\"sk-item\"><div class=\"sk-estimator fitted sk-toggleable\"><input class=\"sk-toggleable__control sk-hidden--visually\" id=\"sk-estimator-id-7\" type=\"checkbox\" ><label for=\"sk-estimator-id-7\" class=\"sk-toggleable__label fitted sk-toggleable__label-arrow fitted\">&nbsp;MLPClassifier<a class=\"sk-estimator-doc-link fitted\" rel=\"noreferrer\" target=\"_blank\" href=\"https://scikit-learn.org/1.4/modules/generated/sklearn.neural_network.MLPClassifier.html\">?<span>Documentation for MLPClassifier</span></a></label><div class=\"sk-toggleable__content fitted\"><pre>MLPClassifier(hidden_layer_sizes=(50, 50), max_iter=1000, random_state=313128)</pre></div> </div></div></div></div></div></div>"
      ],
      "text/plain": [
       "Pipeline(steps=[('prep',\n",
       "                 ColumnTransformer(transformers=[('num', MinMaxScaler(),\n",
       "                                                  <sklearn.compose._column_transformer.make_column_selector object at 0x0000015CB324AA20>),\n",
       "                                                 ('cat',\n",
       "                                                  OneHotEncoder(handle_unknown='ignore'),\n",
       "                                                  <sklearn.compose._column_transformer.make_column_selector object at 0x0000015CB318FC20>)])),\n",
       "                ('siec',\n",
       "                 MLPClassifier(hidden_layer_sizes=(50, 50), max_iter=1000,\n",
       "                               random_state=313128))])"
      ]
     },
     "execution_count": 22,
     "metadata": {},
     "output_type": "execute_result"
    }
   ],
   "source": [
    "pipeline = Pipeline(steps = [(\"prep\", preprocessor),\n",
    "                        (\"siec\", MLPClassifier(random_state=313128, max_iter=1000, hidden_layer_sizes=(50, 50)))])\n",
    "pipeline.fit(X_train, y_train)"
   ]
  },
  {
   "cell_type": "markdown",
   "metadata": {},
   "source": [
    "Uzyskujemy trafność modelu"
   ]
  },
  {
   "cell_type": "code",
   "execution_count": 23,
   "metadata": {},
   "outputs": [
    {
     "name": "stdout",
     "output_type": "stream",
     "text": [
      "Trafność: \n",
      "Zbiór uczący:  0.9203365613589458\n",
      "Zbiór testowy:  0.9193954659949622\n"
     ]
    }
   ],
   "source": [
    "print(\"Trafność: \")\n",
    "print(\"Zbiór uczący: \", pipeline.score(X_train, y_train))\n",
    "print(\"Zbiór testowy: \", pipeline.score(X_test, y_test))"
   ]
  },
  {
   "cell_type": "markdown",
   "metadata": {},
   "source": [
    "Uzyskujemy macierze pomylek dla uczącej i testowej"
   ]
  },
  {
   "cell_type": "code",
   "execution_count": 24,
   "metadata": {},
   "outputs": [
    {
     "name": "stdout",
     "output_type": "stream",
     "text": [
      "Macierze pomyłek: \n",
      "Zbiór uczący: \n",
      "       0     1\n",
      "0  10109   330\n",
      "1    758  2301\n",
      "Zbiór testowy: \n",
      "       0     1\n",
      "0  23776   778\n",
      "1   1731  5210\n"
     ]
    }
   ],
   "source": [
    "y_train_pred = pipeline.predict(X_train)\n",
    "y_test_pred = pipeline.predict(X_test)\n",
    "confusion_matrix_train = confusion_matrix(y_train, y_train_pred)\n",
    "confusion_matrix_test = confusion_matrix(y_test, y_test_pred)\n",
    "print(\"Macierze pomyłek: \")\n",
    "print(\"Zbiór uczący: \")\n",
    "print(pd.DataFrame(confusion_matrix_test))\n",
    "print(\"Zbiór testowy: \")\n",
    "print(pd.DataFrame(confusion_matrix_train))"
   ]
  },
  {
   "cell_type": "markdown",
   "metadata": {},
   "source": [
    "Wyznaczamy tp, tn, fp, fn"
   ]
  },
  {
   "cell_type": "code",
   "execution_count": 25,
   "metadata": {},
   "outputs": [],
   "source": [
    "tn_train, fp_train, fn_train, tp_train = confusion_matrix_train.ravel()\n",
    "tn_test, fp_test, fn_test, tp_test = confusion_matrix_test.ravel()"
   ]
  },
  {
   "cell_type": "markdown",
   "metadata": {},
   "source": [
    "uzyskujemy czułość modelu"
   ]
  },
  {
   "cell_type": "code",
   "execution_count": 27,
   "metadata": {},
   "outputs": [
    {
     "name": "stdout",
     "output_type": "stream",
     "text": [
      "Czułość: \n",
      "Zbiór uczący:  0.7506123037026365\n",
      "Zbiór testowy:  0.7522066034651848\n"
     ]
    }
   ],
   "source": [
    "sensitivity_train = tp_train/(tp_train + fn_train)\n",
    "sensitivity_test = tp_test/(tp_test + fn_test)\n",
    "print(\"Czułość: \")\n",
    "print(\"Zbiór uczący: \", sensitivity_train)\n",
    "print(\"Zbiór testowy: \", sensitivity_test)"
   ]
  },
  {
   "cell_type": "markdown",
   "metadata": {},
   "source": [
    "Uzyskujemy swoistość modelu"
   ]
  },
  {
   "cell_type": "code",
   "execution_count": 28,
   "metadata": {},
   "outputs": [
    {
     "name": "stdout",
     "output_type": "stream",
     "text": [
      "Swoistość: \n",
      "Zbiór uczący:  0.9683147348700822\n",
      "Zbiór testowy:  0.9683877766069547\n"
     ]
    }
   ],
   "source": [
    "print(\"Swoistość: \")\n",
    "print(\"Zbiór uczący: \", tn_train/(tn_train + fp_train))\n",
    "print(\"Zbiór testowy: \", tn_test/(tn_test + fp_test))"
   ]
  },
  {
   "cell_type": "markdown",
   "metadata": {},
   "source": [
    "Uzyskujemy precyzje modelu"
   ]
  },
  {
   "cell_type": "code",
   "execution_count": 29,
   "metadata": {},
   "outputs": [
    {
     "name": "stdout",
     "output_type": "stream",
     "text": [
      "Precyzja: \n",
      "Zbiór uczący:  0.8700734802939212\n",
      "Zbiór testowy:  0.8745724059293044\n"
     ]
    }
   ],
   "source": [
    "precision_train = tp_train/(tp_train + fp_train)\n",
    "precision_test = tp_test/(tp_test + fp_test)\n",
    "print(\"Precyzja: \")\n",
    "print(\"Zbiór uczący: \", precision_train)\n",
    "print(\"Zbiór testowy: \", precision_test)"
   ]
  },
  {
   "cell_type": "markdown",
   "metadata": {},
   "source": [
    "Uzyskujemy f1 modelu"
   ]
  },
  {
   "cell_type": "code",
   "execution_count": 30,
   "metadata": {},
   "outputs": [
    {
     "name": "stdout",
     "output_type": "stream",
     "text": [
      "F1: \n",
      "Zbiór uczący:  0.8059401345811741\n",
      "Zbiór testowy:  0.8087873462214411\n"
     ]
    }
   ],
   "source": [
    "print(\"F1: \")\n",
    "print(\"Zbiór uczący: \", 2*sensitivity_train*precision_train/(sensitivity_train + precision_train))\n",
    "print(\"Zbiór testowy: \", 2*sensitivity_test*precision_test/(sensitivity_test + precision_test))"
   ]
  },
  {
   "cell_type": "markdown",
   "metadata": {},
   "source": [
    "Uzyskujemy krzywą roc wraz z auc dla zbioru uczącego"
   ]
  },
  {
   "cell_type": "code",
   "execution_count": 31,
   "metadata": {},
   "outputs": [
    {
     "data": {
      "image/png": "[encoded data removed]",
      "text/plain": [
       "<Figure size 800x800 with 1 Axes>"
      ]
     },
     "metadata": {},
     "output_type": "display_data"
    }
   ],
   "source": [
    "y_train_prob = pipeline.predict_proba(X_train)[:, 1]\n",
    "fpr, tpr, thresholds = roc_curve(y_train, y_train_prob, pos_label = 1)\n",
    "auc = roc_auc_score(y_train, y_train_prob)\n",
    "plt.figure(figsize=(8,8))\n",
    "plt.plot(fpr, tpr, color='darkorange', lw=2, label='AUC = %0.2f' % auc)\n",
    "plt.plot([0, 1], [0, 1], color='navy', lw=2, linestyle='--')\n",
    "plt.xlim([0.0, 1.0])\n",
    "plt.ylim([0.0, 1.0])\n",
    "plt.xlabel('1 - specyficzność')\n",
    "plt.ylabel('Czułość')\n",
    "plt.title('Krzywa ROC - zbiór uczący')\n",
    "plt.legend(loc=\"lower right\")\n",
    "plt.show()"
   ]
  },
  {
   "cell_type": "markdown",
   "metadata": {},
   "source": [
    "Uzyskujemy krzywą roc wraz z auc dla zbioru testowego"
   ]
  },
  {
   "cell_type": "code",
   "execution_count": 32,
   "metadata": {},
   "outputs": [
    {
     "data": {
      "image/png": "[encoded data removed]",
      "text/plain": [
       "<Figure size 800x800 with 1 Axes>"
      ]
     },
     "metadata": {},
     "output_type": "display_data"
    }
   ],
   "source": [
    "y_test_prob = pipeline.predict_proba(X_test)[:, 1]\n",
    "fpr, tpr, thresholds = roc_curve(y_test, y_test_prob, pos_label = 1)\n",
    "auc = roc_auc_score(y_test, y_test_prob)\n",
    "plt.figure(figsize=(8,8))\n",
    "plt.plot(fpr, tpr, color='darkorange', lw=2, label='AUC = %0.2f' % auc)\n",
    "plt.plot([0, 1], [0, 1], color='navy', lw=2, linestyle='--')\n",
    "plt.xlim([0.0, 1.0])\n",
    "plt.ylim([0.0, 1.0])\n",
    "plt.xlabel('1 - specyficzność')\n",
    "plt.ylabel('Czułość')\n",
    "plt.title('Krzywa ROC - zbiór testowy')\n",
    "plt.legend(loc=\"lower right\")\n",
    "plt.show()"
   ]
  },
  {
   "cell_type": "markdown",
   "metadata": {},
   "source": [
    "# XGBOOST\n",
    "Zmienne katogryczne dzielimy na osobne kolumny dla kazdej wartości"
   ]
  },
  {
   "cell_type": "code",
   "execution_count": 33,
   "metadata": {},
   "outputs": [],
   "source": [
    "preprocessor = ColumnTransformer(transformers =\n",
    "                                [('num', 'passthrough', sel_num),\n",
    "                                 (\"cat\", OneHotEncoder(handle_unknown = \"ignore\"), sel_cat)])"
   ]
  },
  {
   "cell_type": "markdown",
   "metadata": {},
   "source": [
    "Tworzymy potok, który na początku wykona preprocessor, który utworzyliśmy wyżej a potem juz klasyfikator oparty o xgboost, parametry zostały dobrane dzięki grid search"
   ]
  },
  {
   "cell_type": "code",
   "execution_count": null,
   "metadata": {},
   "outputs": [],
   "source": [
    "pipeline = Pipeline(steps = [(\"prep\", preprocessor),\n",
    "                      (\"las\", XGBClassifier(objective='binary:logistic', gamma=1,  max_depth=7, n_estimators=500, subsample=0.8, learning_rate=0.1, random_state=313128))])\n",
    "pipeline.fit(X_train, y_train)"
   ]
  },
  {
   "cell_type": "markdown",
   "metadata": {},
   "source": [
    "Uzyskujemy trafność modelu"
   ]
  },
  {
   "cell_type": "code",
   "execution_count": null,
   "metadata": {},
   "outputs": [],
   "source": [
    "print(\"Trafność: \")\n",
    "print(\"Zbiór uczący: \", pipeline.score(X_train, y_train))\n",
    "print(\"Zbiór testowy: \", pipeline.score(X_test, y_test))"
   ]
  },
  {
   "cell_type": "markdown",
   "metadata": {},
   "source": [
    "Uzyskujemy macierze pomylek dla uczącej i testowej"
   ]
  },
  {
   "cell_type": "code",
   "execution_count": null,
   "metadata": {},
   "outputs": [],
   "source": [
    "y_train_pred = pipeline.predict(X_train)\n",
    "y_test_pred = pipeline.predict(X_test)\n",
    "confusion_matrix_test = confusion_matrix(y_train, y_train_pred)\n",
    "confusion_matrix_train = confusion_matrix(y_test, y_test_pred)\n",
    "print(\"Macierze pomyłek: \")\n",
    "print(\"Zbiór uczący: \")\n",
    "print(pd.DataFrame(confusion_matrix_test))\n",
    "print(\"Zbiór testowy: \")\n",
    "print(pd.DataFrame(confusion_matrix_train))"
   ]
  },
  {
   "cell_type": "markdown",
   "metadata": {},
   "source": [
    "Wyznaczamy tp, tn, fp, fn"
   ]
  },
  {
   "cell_type": "code",
   "execution_count": null,
   "metadata": {},
   "outputs": [],
   "source": [
    "tn_train, fp_train, fn_train, tp_train = confusion_matrix_train.ravel()\n",
    "tn_test, fp_test, fn_test, tp_test = confusion_matrix_test.ravel()"
   ]
  },
  {
   "cell_type": "markdown",
   "metadata": {},
   "source": [
    "Uzyskujemy czułość modelu"
   ]
  },
  {
   "cell_type": "code",
   "execution_count": null,
   "metadata": {},
   "outputs": [],
   "source": [
    "sensitivity_train = tp_train/(tp_train + fn_train)\n",
    "sensitivity_test = tp_test/(tp_test + fn_test)\n",
    "print(\"Czułość: \")\n",
    "print(\"Zbiór uczący: \", sensitivity_train)\n",
    "print(\"Zbiór testowy: \", sensitivity_test)"
   ]
  },
  {
   "cell_type": "markdown",
   "metadata": {},
   "source": [
    "Uzyskujemy swoistość modelu"
   ]
  },
  {
   "cell_type": "code",
   "execution_count": null,
   "metadata": {},
   "outputs": [],
   "source": [
    "print(\"Swoistość: \")\n",
    "print(\"Zbiór uczący: \", tn_train/(tn_train + fp_train))\n",
    "print(\"Zbiór testowy: \", tn_test/(tn_test + fp_test))"
   ]
  },
  {
   "cell_type": "markdown",
   "metadata": {},
   "source": [
    "Uzyskujemy precyzje modelu"
   ]
  },
  {
   "cell_type": "code",
   "execution_count": null,
   "metadata": {},
   "outputs": [],
   "source": [
    "precision_train = tp_train/(tp_train + fp_train)\n",
    "precision_test = tp_test/(tp_test + fp_test)\n",
    "print(\"Precyzja: \")\n",
    "print(\"Zbiór uczący: \", precision_train)\n",
    "print(\"Zbiór testowy: \", precision_test)"
   ]
  },
  {
   "cell_type": "markdown",
   "metadata": {},
   "source": [
    "Uzyskujemy f1 modelu"
   ]
  },
  {
   "cell_type": "code",
   "execution_count": null,
   "metadata": {},
   "outputs": [],
   "source": [
    "print(\"F1: \")\n",
    "print(\"Zbiór uczący: \", 2*sensitivity_train*precision_train/(sensitivity_train + precision_train))\n",
    "print(\"Zbiór testowy: \", 2*sensitivity_test*precision_test/(sensitivity_test + precision_test))"
   ]
  },
  {
   "cell_type": "markdown",
   "metadata": {},
   "source": [
    "Wyświetlenie wykresu ważności cech"
   ]
  },
  {
   "cell_type": "code",
   "execution_count": null,
   "metadata": {},
   "outputs": [],
   "source": [
    "importances = pipeline[\"las\"].feature_importances_\n",
    "plt.figure(figsize=(15,5))\n",
    "plt.barh(range(len(importances)), importances)\n",
    "plt.yticks(range(len(importances)), pipeline[\"prep\"].get_feature_names_out())\n",
    "plt.xlabel('Ważność cech')\n",
    "plt.show()"
   ]
  },
  {
   "cell_type": "markdown",
   "metadata": {},
   "source": [
    "Uzyskujemy krzywą roc wraz z auc dla zbioru uczącego"
   ]
  },
  {
   "cell_type": "code",
   "execution_count": null,
   "metadata": {},
   "outputs": [],
   "source": [
    "y_train_prob = pipeline.predict_proba(X_train)[:, 1]\n",
    "fpr, tpr, thresholds = roc_curve(y_train, y_train_prob, pos_label = 1)\n",
    "auc = roc_auc_score(y_train, y_train_prob)\n",
    "plt.figure(figsize=(8,8))\n",
    "plt.plot(fpr, tpr, color='darkorange', lw=2, label='AUC = %0.2f' % auc)\n",
    "plt.plot([0, 1], [0, 1], color='navy', lw=2, linestyle='--')\n",
    "plt.xlim([0.0, 1.0])\n",
    "plt.ylim([0.0, 1.0])\n",
    "plt.xlabel('1 - specyficzność')\n",
    "plt.ylabel('Czułość')\n",
    "plt.title('Krzywa ROC - zbiór uczący')\n",
    "plt.legend(loc=\"lower right\")\n",
    "plt.show()"
   ]
  },
  {
   "cell_type": "markdown",
   "metadata": {},
   "source": [
    "Uzyskujemy krzywą roc wraz z auc dla zbioru testowego"
   ]
  },
  {
   "cell_type": "code",
   "execution_count": null,
   "metadata": {},
   "outputs": [],
   "source": [
    "y_test_prob = pipeline.predict_proba(X_test)[:, 1]\n",
    "fpr, tpr, thresholds = roc_curve(y_test, y_test_prob, pos_label = 1)\n",
    "auc = roc_auc_score(y_test, y_test_prob)\n",
    "plt.figure(figsize=(8,8))\n",
    "plt.plot(fpr, tpr, color='darkorange', lw=2, label='AUC = %0.2f' % auc)\n",
    "plt.plot([0, 1], [0, 1], color='navy', lw=2, linestyle='--')\n",
    "plt.xlim([0.0, 1.0])\n",
    "plt.ylim([0.0, 1.0])\n",
    "plt.xlabel('1 - specyficzność')\n",
    "plt.ylabel('Czułość')\n",
    "plt.title('Krzywa ROC - zbiór testowy')\n",
    "plt.legend(loc=\"lower right\")\n",
    "plt.show()"
   ]
  }
 ],
 "metadata": {
  "kernelspec": {
   "display_name": "Python 3 (ipykernel)",
   "language": "python",
   "name": "python3"
  },
  "language_info": {
   "codemirror_mode": {
    "name": "ipython",
    "version": 3
   },
   "file_extension": ".py",
   "mimetype": "text/x-python",
   "name": "python",
   "nbconvert_exporter": "python",
   "pygments_lexer": "ipython3",
   "version": "3.12.4"
  }
 },
 "nbformat": 4,
 "nbformat_minor": 4
}
